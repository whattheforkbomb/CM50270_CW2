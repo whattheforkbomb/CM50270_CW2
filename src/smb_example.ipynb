{
 "cells": [
  {
   "cell_type": "markdown",
   "id": "e3e1f006-802d-4325-a74a-3c3f78e31c23",
   "metadata": {},
   "source": [
    "## Creating An Environment With Simple Movement\n",
    "Code adapted from: https://pypi.org/project/gym-super-mario-bros/"
   ]
  },
  {
   "cell_type": "code",
   "execution_count": 2,
   "id": "f786b61e-e884-4882-8d74-ea339b216ecb",
   "metadata": {},
   "outputs": [
    {
     "name": "stderr",
     "output_type": "stream",
     "text": [
      "/home/whiffingj/bin/anaconda3/envs/rl/lib/python3.10/site-packages/gym/envs/registration.py:505: UserWarning: \u001b[33mWARN: The environment SuperMarioBros-v0 is out of date. You should consider upgrading to version `v3` with the environment ID `SuperMarioBros-v3`.\u001b[0m\n",
      "  logger.warn(\n"
     ]
    }
   ],
   "source": [
    "from nes_py.wrappers import JoypadSpace\n",
    "import gym_super_mario_bros\n",
    "from gym_super_mario_bros.actions import SIMPLE_MOVEMENT\n",
    "env = gym_super_mario_bros.make('SuperMarioBros-v0')\n",
    "env = JoypadSpace(env, SIMPLE_MOVEMENT)\n",
    "\n",
    "done = True\n",
    "for step in range(5000):\n",
    "    if done:\n",
    "        state = env.reset()\n",
    "    state, reward, done, info = env.step(env.action_space.sample()) # pick random action on each step, no learning\n",
    "    env.render() # Disable for faster execution (e.g. don't need to render the game output).\n",
    "    # If dependencies correctly setup, you shuold see a window pop-up with the Super Mario Bros world in it.\n",
    "env.close()"
   ]
  }
 ],
 "metadata": {
  "kernelspec": {
   "display_name": "Python 3 (ipykernel)",
   "language": "python",
   "name": "python3"
  },
  "language_info": {
   "codemirror_mode": {
    "name": "ipython",
    "version": 3
   },
   "file_extension": ".py",
   "mimetype": "text/x-python",
   "name": "python",
   "nbconvert_exporter": "python",
   "pygments_lexer": "ipython3",
   "version": "3.8.10"
  }
 },
 "nbformat": 4,
 "nbformat_minor": 5
}
