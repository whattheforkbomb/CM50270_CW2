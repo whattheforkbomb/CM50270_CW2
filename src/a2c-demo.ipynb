{
 "cells": [
  {
   "cell_type": "markdown",
   "id": "07431507-7963-404c-b6e1-c8c6a3261e7f",
   "metadata": {},
   "source": [
    "# A2C Demo\n",
    "This notebook focuses on training and testing the Advantage Actor-Critic (A2C) algorithm."
   ]
  },
  {
   "cell_type": "code",
   "execution_count": 1,
   "id": "edde6b0c-f316-4730-8b8c-b3d9f58fa455",
   "metadata": {},
   "outputs": [],
   "source": [
    "from a2c.model import ACNetwork\n",
    "from a2c.agent import A2CAgent\n",
    "from utils.config import Config\n",
    "from utils.helper import set_device\n",
    "\n",
    "from nes_py.wrappers import JoypadSpace\n",
    "import gym_super_mario_bros\n",
    "from gym_super_mario_bros.actions import RIGHT_ONLY\n",
    "import torch.optim as optim"
   ]
  },
  {
   "cell_type": "code",
   "execution_count": 2,
   "id": "c3b44f35-ebcd-4272-a02e-092430cf4c12",
   "metadata": {},
   "outputs": [
    {
     "name": "stderr",
     "output_type": "stream",
     "text": [
      "C:\\Users\\rpart\\anaconda3\\envs\\rla2\\lib\\site-packages\\gym\\envs\\registration.py:505: UserWarning: \u001b[33mWARN: The environment SuperMarioBros-v0 is out of date. You should consider upgrading to version `v3` with the environment ID `SuperMarioBros-v3`.\u001b[0m\n",
      "  logger.warn(\n"
     ]
    },
    {
     "name": "stdout",
     "output_type": "stream",
     "text": [
      "CUDA unavailable. Device set to CPU.\n"
     ]
    }
   ],
   "source": [
    "# Set hyperparameters\n",
    "ENV_NAME = 'SuperMarioBros-v0'\n",
    "GAMMA = 0.99\n",
    "LEARNING_RATE = 0.001\n",
    "EPSILON = 1e-3\n",
    "ENTROPY_WEIGHT = 0.01\n",
    "N_STEPS = 4 # TD bootstrapping\n",
    "GRAD_CLIP = 0.1 # Prevents gradients from being too large\n",
    "NUM_EPISODES = 100\n",
    "SAVE_MODEL_FILENAME = 'a2c'\n",
    "\n",
    "# Create environment\n",
    "env = gym_super_mario_bros.make(ENV_NAME)\n",
    "env = JoypadSpace(env, RIGHT_ONLY)\n",
    "\n",
    "# Set cuda device\n",
    "device = set_device()\n",
    "\n",
    "# Add core items to config\n",
    "config = Config()\n",
    "config.add(\n",
    "    env=env,\n",
    "    env_name=ENV_NAME,\n",
    "    gamma=GAMMA,\n",
    "    lr=LEARNING_RATE,\n",
    "    epsilon=EPSILON,\n",
    "    entropy_weight=ENTROPY_WEIGHT,\n",
    "    rollout_size=N_STEPS,\n",
    "    grad_clip=GRAD_CLIP,\n",
    "    device=device,\n",
    "    num_episodes=NUM_EPISODES,\n",
    "    filename=SAVE_MODEL_FILENAME\n",
    ")\n",
    "\n",
    "# Store environment parameters\n",
    "config.set_env_params()"
   ]
  },
  {
   "cell_type": "code",
   "execution_count": 3,
   "id": "dc1be70a-ef84-46cd-8983-dfe7baccd52c",
   "metadata": {},
   "outputs": [
    {
     "name": "stdout",
     "output_type": "stream",
     "text": [
      "Available actions: Discrete(5)\n",
      "Obs space shape:  (240, 256, 3)\n"
     ]
    }
   ],
   "source": [
    "# https://github.com/Kautenja/gym-super-mario-bros/blob/master/gym_super_mario_bros/actions.py\n",
    "print('Available actions:', config.action_space)\n",
    "print('Obs space shape: ', config.input_shape)"
   ]
  },
  {
   "cell_type": "code",
   "execution_count": 4,
   "id": "19b73843-b9ee-40dd-9097-8f937bbe4018",
   "metadata": {},
   "outputs": [],
   "source": [
    "# Create network\n",
    "a2c = ACNetwork(config.input_shape, config.n_actions).to(device)\n",
    "\n",
    "# Add optimizer and network to config\n",
    "config.add(\n",
    "    optimizer_fn=lambda params: optim.Adam(\n",
    "        params,\n",
    "        lr=config.lr,\n",
    "        eps=config.epsilon\n",
    "    ),\n",
    "    network_fn=lambda: a2c\n",
    ")"
   ]
  },
  {
   "cell_type": "code",
   "execution_count": 5,
   "id": "38b91a75-fa48-4032-a822-ea70e585c9dc",
   "metadata": {
    "scrolled": true,
    "tags": []
   },
   "outputs": [
    {
     "name": "stdout",
     "output_type": "stream",
     "text": [
      "Running training with N-Steps: 4\n",
      "(1/100) Actions: [3, 0, 3, 4], Avg return: -0.024, Total Loss: 0.016675731167197227\n",
      "(2/100) Actions: [0, 4, 2, 4], Avg return: 0.080, Total Loss: 0.014151601120829582\n",
      "(3/100) Actions: [3, 4, 2, 3], Avg return: 0.170, Total Loss: 0.011996699497103691\n",
      "(4/100) Actions: [0, 2, 3, 4], Avg return: 0.271, Total Loss: 0.009534895420074463\n",
      "(5/100) Actions: [3, 1, 1, 0], Avg return: 0.386, Total Loss: 0.006642619147896767\n",
      "(6/100) Actions: [1, 4, 0, 2], Avg return: 0.514, Total Loss: 0.0036561237648129463\n",
      "(7/100) Actions: [3, 0, 3, 2], Avg return: 0.658, Total Loss: 0.00023069418966770172\n",
      "(8/100) Actions: [0, 4, 4, 2], Avg return: 0.817, Total Loss: -0.0034129414707422256\n",
      "(9/100) Actions: [2, 0, 2, 1], Avg return: 0.994, Total Loss: -0.007785201072692871\n",
      "(10/100) Actions: [3, 1, 2, 0], Avg return: 1.189, Total Loss: -0.012473942711949348\n",
      "(11/100) Actions: [2, 1, 1, 4], Avg return: 1.403, Total Loss: -0.017377033829689026\n",
      "(12/100) Actions: [2, 0, 4, 2], Avg return: 1.639, Total Loss: -0.02260235697031021\n",
      "(13/100) Actions: [1, 1, 4, 0], Avg return: 1.898, Total Loss: -0.02916099689900875\n",
      "(14/100) Actions: [1, 3, 4, 0], Avg return: 2.181, Total Loss: -0.03547599911689758\n",
      "(15/100) Actions: [4, 1, 2, 4], Avg return: 2.490, Total Loss: -0.04180986434221268\n",
      "(16/100) Actions: [1, 1, 3, 1], Avg return: 2.828, Total Loss: -0.05067348852753639\n",
      "(17/100) Actions: [1, 3, 1, 2], Avg return: 3.196, Total Loss: -0.05842196196317673\n",
      "(18/100) Actions: [1, 4, 4, 4], Avg return: 3.596, Total Loss: -0.06591974198818207\n",
      "(19/100) Actions: [2, 3, 1, 4], Avg return: 4.031, Total Loss: -0.07583105564117432\n",
      "(20/100) Actions: [3, 3, 4, 2], Avg return: 4.502, Total Loss: -0.08531533926725388\n",
      "(21/100) Actions: [2, 1, 0, 1], Avg return: 5.011, Total Loss: -0.09818817675113678\n",
      "(22/100) Actions: [4, 4, 1, 3], Avg return: 5.561, Total Loss: -0.10741958767175674\n",
      "(23/100) Actions: [4, 1, 0, 1], Avg return: 6.154, Total Loss: -0.12150070071220398\n",
      "(24/100) Actions: [1, 3, 3, 3], Avg return: 6.795, Total Loss: -0.13332723081111908\n",
      "(25/100) Actions: [3, 4, 0, 4], Avg return: 7.484, Total Loss: -0.14501889050006866\n",
      "(26/100) Actions: [4, 2, 4, 0], Avg return: 8.225, Total Loss: -0.15828964114189148\n",
      "(27/100) Actions: [3, 1, 0, 3], Avg return: 9.022, Total Loss: -0.17642202973365784\n",
      "(28/100) Actions: [1, 3, 1, 3], Avg return: 9.878, Total Loss: -0.19185489416122437\n",
      "(29/100) Actions: [2, 3, 2, 3], Avg return: 10.796, Total Loss: -0.20323443412780762\n",
      "(30/100) Actions: [4, 2, 3, 3], Avg return: 11.781, Total Loss: -0.21873708069324493\n",
      "(31/100) Actions: [2, 2, 3, 2], Avg return: 12.836, Total Loss: -0.23440934717655182\n",
      "(32/100) Actions: [2, 3, 4, 1], Avg return: 13.966, Total Loss: -0.25343623757362366\n",
      "(33/100) Actions: [0, 3, 4, 1], Avg return: 15.175, Total Loss: -0.27294591069221497\n",
      "(34/100) Actions: [2, 1, 3, 4], Avg return: 16.469, Total Loss: -0.2873883843421936\n",
      "(35/100) Actions: [2, 2, 0, 2], Avg return: 17.851, Total Loss: -0.3022907078266144\n",
      "(36/100) Actions: [0, 4, 2, 4], Avg return: 19.328, Total Loss: -0.3152608275413513\n",
      "(37/100) Actions: [2, 1, 0, 1], Avg return: 20.905, Total Loss: -0.34236064553260803\n",
      "(38/100) Actions: [4, 4, 3, 1], Avg return: 22.588, Total Loss: -0.3489387631416321\n",
      "(39/100) Actions: [0, 2, 3, 4], Avg return: 24.381, Total Loss: -0.3636128306388855\n",
      "(40/100) Actions: [4, 3, 2, 3], Avg return: 26.293, Total Loss: -0.3770240843296051\n",
      "(41/100) Actions: [4, 3, 3, 4], Avg return: 28.328, Total Loss: -0.38384443521499634\n",
      "(42/100) Actions: [1, 0, 2, 4], Avg return: 30.494, Total Loss: -0.39297574758529663\n",
      "(43/100) Actions: [4, 2, 1, 4], Avg return: 32.798, Total Loss: -0.39449191093444824\n",
      "(44/100) Actions: [1, 1, 1, 0], Avg return: 35.247, Total Loss: -0.4025854170322418\n",
      "(45/100) Actions: [3, 1, 2, 2], Avg return: 37.847, Total Loss: -0.4055950343608856\n",
      "(46/100) Actions: [0, 0, 1, 0], Avg return: 40.607, Total Loss: -0.36765143275260925\n",
      "(47/100) Actions: [0, 0, 2, 0], Avg return: 43.533, Total Loss: -0.35024526715278625\n",
      "(48/100) Actions: [4, 0, 3, 3], Avg return: 46.629, Total Loss: -0.3378152847290039\n",
      "(49/100) Actions: [4, 1, 0, 2], Avg return: 49.906, Total Loss: -0.313680499792099\n",
      "(50/100) Actions: [4, 0, 0, 4], Avg return: 53.369, Total Loss: -0.2785796523094177\n",
      "(51/100) Actions: [2, 3, 3, 2], Avg return: 56.699, Total Loss: -0.13571026921272278\n",
      "(52/100) Actions: [3, 3, 3, 2], Avg return: 59.445, Total Loss: -0.04557372257113457\n",
      "(53/100) Actions: [2, 3, 3, 2], Avg return: 61.595, Total Loss: 0.007098903879523277\n",
      "(54/100) Actions: [1, 1, 3, 2], Avg return: 63.160, Total Loss: 0.050768300890922546\n",
      "(55/100) Actions: [3, 3, 3, 2], Avg return: 64.168, Total Loss: 0.05981560796499252\n",
      "(56/100) Actions: [3, 4, 1, 2], Avg return: 64.659, Total Loss: 0.022005707025527954\n",
      "(57/100) Actions: [1, 2, 2, 3], Avg return: 64.677, Total Loss: 0.1046014055609703\n",
      "(58/100) Actions: [3, 4, 2, 1], Avg return: 64.272, Total Loss: 0.014805961400270462\n",
      "(59/100) Actions: [1, 1, 2, 2], Avg return: 63.496, Total Loss: 0.15064790844917297\n",
      "(60/100) Actions: [1, 1, 1, 2], Avg return: 62.399, Total Loss: 0.1881866157054901\n",
      "(61/100) Actions: [2, 1, 1, 1], Avg return: 61.030, Total Loss: 0.15735049545764923\n",
      "(62/100) Actions: [1, 2, 1, 4], Avg return: 59.437, Total Loss: -0.009117201901972294\n",
      "(63/100) Actions: [1, 1, 1, 1], Avg return: 57.661, Total Loss: 0.12492959201335907\n",
      "(64/100) Actions: [2, 2, 1, 1], Avg return: 55.744, Total Loss: -0.04240288585424423\n",
      "(65/100) Actions: [1, 1, 1, 1], Avg return: 53.718, Total Loss: -0.0102162417024374\n",
      "(66/100) Actions: [2, 4, 1, 1], Avg return: 51.620, Total Loss: -0.189679354429245\n",
      "(67/100) Actions: [1, 3, 4, 1], Avg return: 49.485, Total Loss: -0.2308945655822754\n",
      "(68/100) Actions: [3, 1, 1, 3], Avg return: 47.552, Total Loss: -0.24017581343650818\n",
      "(69/100) Actions: [3, 3, 2, 4], Avg return: 46.075, Total Loss: -0.23763680458068848\n",
      "(70/100) Actions: [4, 4, 2, 1], Avg return: 45.057, Total Loss: -0.3535923957824707\n",
      "(71/100) Actions: [2, 2, 2, 2], Avg return: 44.457, Total Loss: -0.07043450325727463\n",
      "(72/100) Actions: [3, 3, 2, 4], Avg return: 43.639, Total Loss: -0.2769984304904938\n",
      "(73/100) Actions: [2, 2, 4, 2], Avg return: 43.203, Total Loss: -0.1632651686668396\n",
      "(74/100) Actions: [3, 3, 4, 2], Avg return: 42.652, Total Loss: -0.29499953985214233\n",
      "(75/100) Actions: [3, 2, 1, 2], Avg return: 42.448, Total Loss: -0.2897466719150543\n",
      "(76/100) Actions: [4, 1, 2, 2], Avg return: 42.550, Total Loss: -0.33401796221733093\n",
      "(77/100) Actions: [4, 2, 3, 2], Avg return: 42.930, Total Loss: -0.28276607394218445\n",
      "(78/100) Actions: [4, 3, 2, 2], Avg return: 43.565, Total Loss: -0.29056185483932495\n",
      "(79/100) Actions: [2, 2, 2, 3], Avg return: 44.437, Total Loss: -0.2394157350063324\n",
      "(80/100) Actions: [0, 0, 2, 1], Avg return: 45.516, Total Loss: -0.356174498796463\n",
      "(81/100) Actions: [3, 1, 0, 3], Avg return: 46.814, Total Loss: -0.3361525237560272\n",
      "(82/100) Actions: [4, 0, 2, 4], Avg return: 48.325, Total Loss: -0.3374846279621124\n",
      "(83/100) Actions: [1, 2, 0, 0], Avg return: 50.045, Total Loss: -0.2977012097835541\n",
      "(84/100) Actions: [1, 1, 1, 4], Avg return: 51.966, Total Loss: -0.3959077000617981\n",
      "(85/100) Actions: [3, 1, 0, 1], Avg return: 54.093, Total Loss: -0.2889662981033325\n",
      "(86/100) Actions: [1, 0, 0, 3], Avg return: 56.208, Total Loss: -0.2220475673675537\n",
      "(87/100) Actions: [4, 3, 0, 2], Avg return: 57.804, Total Loss: -0.1543707400560379\n",
      "(88/100) Actions: [3, 3, 2, 3], Avg return: 58.894, Total Loss: -0.06161055713891983\n",
      "(89/100) Actions: [0, 3, 1, 0], Avg return: 59.511, Total Loss: -0.23181790113449097\n",
      "(90/100) Actions: [4, 4, 4, 3], Avg return: 59.693, Total Loss: -0.056482404470443726\n",
      "(91/100) Actions: [2, 3, 3, 4], Avg return: 59.478, Total Loss: -0.03774051368236542\n",
      "(92/100) Actions: [3, 2, 3, 4], Avg return: 58.910, Total Loss: -0.04121434688568115\n",
      "(93/100) Actions: [3, 4, 4, 1], Avg return: 58.033, Total Loss: -0.19935017824172974\n",
      "(94/100) Actions: [2, 2, 4, 4], Avg return: 56.892, Total Loss: -0.10217279940843582\n",
      "(95/100) Actions: [2, 2, 3, 4], Avg return: 55.527, Total Loss: -0.11211694777011871\n",
      "(96/100) Actions: [0, 4, 0, 3], Avg return: 53.977, Total Loss: -0.24162545800209045\n",
      "(97/100) Actions: [4, 4, 3, 2], Avg return: 52.288, Total Loss: -0.1567486822605133\n",
      "(98/100) Actions: [3, 2, 2, 3], Avg return: 50.482, Total Loss: -0.17037956416606903\n",
      "(99/100) Actions: [4, 4, 3, 4], Avg return: 48.595, Total Loss: -0.21320892870426178\n",
      "(100/100) Actions: [2, 3, 0, 2], Avg return: 46.760, Total Loss: -0.27081701159477234\n"
     ]
    }
   ],
   "source": [
    "# Train agent\n",
    "agent = A2CAgent(config)\n",
    "agent.train()"
   ]
  },
  {
   "cell_type": "code",
   "execution_count": null,
   "id": "fff40060-682c-484e-bff5-4f1e20d7276f",
   "metadata": {},
   "outputs": [],
   "source": []
  }
 ],
 "metadata": {
  "kernelspec": {
   "display_name": "Python 3 (ipykernel)",
   "language": "python",
   "name": "python3"
  },
  "language_info": {
   "codemirror_mode": {
    "name": "ipython",
    "version": 3
   },
   "file_extension": ".py",
   "mimetype": "text/x-python",
   "name": "python",
   "nbconvert_exporter": "python",
   "pygments_lexer": "ipython3",
   "version": "3.10.4"
  }
 },
 "nbformat": 4,
 "nbformat_minor": 5
}
